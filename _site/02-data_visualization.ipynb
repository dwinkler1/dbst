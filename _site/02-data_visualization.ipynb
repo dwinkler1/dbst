{
  "cells": [
    {
      "cell_type": "markdown",
      "metadata": {},
      "source": [
        "# Data Visualization\n",
        "\n",
        "[Data-based Storytelling](./index.html)\n",
        "\n",
        "Daniel Winkler (Institute for Retailing & Data Science)  \n",
        "Stephan Fally (Department Marketing)\n",
        "\n",
        "# Visual Channels"
      ],
      "id": "496a2957-bf70-4170-af08-0af663ce3d95"
    },
    {
      "cell_type": "code",
      "execution_count": null,
      "metadata": {},
      "outputs": [
        {
          "output_type": "stream",
          "name": "stdout",
          "text": [
            "[1] \"HI\""
          ]
        }
      ],
      "source": [
        "print(\"HI\")"
      ],
      "id": "fa7db567-d2b8-4a24-99e7-3baa3b8abb82"
    }
  ],
  "nbformat": 4,
  "nbformat_minor": 5,
  "metadata": {
    "kernelspec": {
      "display_name": "Python 3",
      "language": "python",
      "name": "python3"
    }
  }
}