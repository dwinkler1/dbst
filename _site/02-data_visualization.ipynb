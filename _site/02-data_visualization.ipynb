{
  "cells": [
    {
      "cell_type": "markdown",
      "metadata": {},
      "source": [
        "# Data Visualization\n",
        "\n",
        "[Data-based Storytelling](./index.html)\n",
        "\n",
        "Daniel Winkler (Institute for Retailing & Data Science)  \n",
        "Stephan Fally (Department Marketing)\n",
        "\n",
        "# Visual Channels"
      ],
      "id": "f5aad7a6-97fd-4a7f-b5b7-657ae703b5e6"
    },
    {
      "cell_type": "code",
      "execution_count": null,
      "metadata": {},
      "outputs": [
        {
          "output_type": "stream",
          "name": "stdout",
          "text": [
            "[1] \"HI\""
          ]
        }
      ],
      "source": [
        "print(\"HI\")"
      ],
      "id": "2fef2775-795f-4d4c-bc1b-2d5e5bf9a872"
    }
  ],
  "nbformat": 4,
  "nbformat_minor": 5,
  "metadata": {
    "kernelspec": {
      "name": "ir",
      "display_name": "R",
      "language": "r"
    }
  }
}