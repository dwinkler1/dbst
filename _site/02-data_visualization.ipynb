{
  "cells": [
    {
      "cell_type": "markdown",
      "metadata": {},
      "source": [
        "# Data Visualization\n",
        "\n",
        "[Data-based Storytelling](./index.html)\n",
        "\n",
        "Daniel Winkler (Institute for Retailing & Data Science)  \n",
        "Stephan Fally (Department Marketing)\n",
        "\n",
        "# Visual Channels"
      ],
      "id": "3d7c8e19-6cb6-4c57-9994-e773903df01a"
    }
  ],
  "nbformat": 4,
  "nbformat_minor": 5,
  "metadata": {
    "kernelspec": {
      "display_name": "Python 3",
      "language": "python",
      "name": "python3"
    }
  }
}