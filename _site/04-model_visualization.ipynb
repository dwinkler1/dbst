{
  "cells": [
    {
      "cell_type": "markdown",
      "metadata": {},
      "source": [
        "# Visualizing Uncertainty\n",
        "\n",
        "[Data-based Storytelling](./index.html)\n",
        "\n",
        "Daniel Winkler (Institute for Retailing & Data Science)  \n",
        "Stephan Fally (Department Marketing)"
      ],
      "id": "ce9522e1-842f-42c4-95a0-cb6318e271ad"
    }
  ],
  "nbformat": 4,
  "nbformat_minor": 5,
  "metadata": {
    "kernelspec": {
      "name": "ir",
      "display_name": "R",
      "language": "r"
    }
  }
}