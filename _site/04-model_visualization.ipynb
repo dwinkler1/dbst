{
  "cells": [
    {
      "cell_type": "markdown",
      "metadata": {},
      "source": [
        "# Visualizing Uncertainty\n",
        "\n",
        "[Data-based Storytelling](./index.html)\n",
        "\n",
        "Daniel Winkler (Institute for Retailing & Data Science)  \n",
        "Stephan Fally (Department Marketing)"
      ],
      "id": "b1659a9c-c040-460c-a109-873d0ebf65b0"
    }
  ],
  "nbformat": 4,
  "nbformat_minor": 5,
  "metadata": {
    "kernelspec": {
      "name": "ir",
      "display_name": "R",
      "language": "r"
    }
  }
}