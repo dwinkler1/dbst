{
  "cells": [
    {
      "cell_type": "markdown",
      "metadata": {},
      "source": [
        "# Visualizing Uncertainty\n",
        "\n",
        "[Data-based Storytelling](./index.html)\n",
        "\n",
        "Daniel Winkler (Institute for Retailing & Data Science)  \n",
        "Stephan Fally (Department Marketing)"
      ],
      "id": "eca882f4-0242-427a-b2f6-f33323697692"
    }
  ],
  "nbformat": 4,
  "nbformat_minor": 5,
  "metadata": {
    "kernelspec": {
      "name": "ir",
      "display_name": "R",
      "language": "r"
    }
  }
}