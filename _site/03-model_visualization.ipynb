{
  "cells": [
    {
      "cell_type": "markdown",
      "metadata": {},
      "source": [
        "# Visualizing Uncertainty\n",
        "\n",
        "[Data-based Storytelling](./index.html)\n",
        "\n",
        "Daniel Winkler (Institute for Retailing & Data Science)  \n",
        "Stephan Fally (Department Marketing)"
      ],
      "id": "17d25e1f-4e4d-4d21-a312-bb2624ae4a17"
    }
  ],
  "nbformat": 4,
  "nbformat_minor": 5,
  "metadata": {
    "kernelspec": {
      "name": "ir",
      "display_name": "R",
      "language": "r"
    }
  }
}